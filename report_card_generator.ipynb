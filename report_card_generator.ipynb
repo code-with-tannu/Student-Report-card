{
 "cells": [
  {
   "cell_type": "code",
   "execution_count": null,
   "id": "fbe61609-57cf-42a4-a22e-e854a4fc0389",
   "metadata": {},
   "outputs": [],
   "source": [
    "\n",
    "def get_marks(subject_name):\n",
    "    while True:\n",
    "        try:\n",
    "            marks = float(input(f\"Enter marks for {subject_name} (out of 100): \"))\n",
    "            if marks < 0 or marks > 100:\n",
    "                raise ValueError(\"Marks should be between 0 and 100.\")\n",
    "            return marks\n",
    "        except ValueError as e:\n",
    "            print(f\"Invalid input: {e}\")\n",
    "\n",
    "def calculate_grade(avg):\n",
    "    if avg >= 90:\n",
    "        return \"A+\"\n",
    "    elif avg >= 80:\n",
    "        return \"A\"\n",
    "    elif avg >= 70:\n",
    "        return \"B\"\n",
    "    elif avg >= 60:\n",
    "        return \"C\"\n",
    "    elif avg >= 50:\n",
    "        return \"D\"\n",
    "    else:\n",
    "        return \"F\"\n",
    "\n",
    "# 👇 Direct Code (no function call)\n",
    "print(\"🎓 Student Report Card Generator 🎓\")\n",
    "\n",
    "name = input(\"Enter student name: \")\n",
    "roll = input(\"Enter roll number: \")\n",
    "\n",
    "print(\"\\n--- Enter Marks for 3 Subjects ---\")\n",
    "math = get_marks(\"Math\")\n",
    "science = get_marks(\"Science\")\n",
    "english = get_marks(\"English\")\n",
    "\n",
    "total = math + science + english\n",
    "avg = total / 3\n",
    "grade = calculate_grade(avg)\n",
    "\n",
    "print(\"\\n📄 ----- Report Card ----- 📄\")\n",
    "print(f\"Name: {name}\")\n",
    "print(f\"Roll No: {roll}\")\n",
    "print(f\"Math: {math}\")\n",
    "print(f\"Science: {science}\")\n",
    "print(f\"English: {english}\")\n",
    "print(f\"Total: {total}/300\")\n",
    "print(f\"Average: {avg:.2f}\")\n",
    "print(f\"Grade: {grade}\")\n"
   ]
  },
  {
   "cell_type": "code",
   "execution_count": null,
   "id": "84f38ba7-edc6-44b0-85ae-23d4a67603e4",
   "metadata": {},
   "outputs": [],
   "source": []
  },
  {
   "cell_type": "code",
   "execution_count": null,
   "id": "0d0f2d36-9616-498a-aa15-33e1440c0e3e",
   "metadata": {},
   "outputs": [],
   "source": []
  },
  {
   "cell_type": "code",
   "execution_count": null,
   "id": "0579c47e-aa54-4cad-8414-eaf36216a457",
   "metadata": {},
   "outputs": [],
   "source": []
  }
 ],
 "metadata": {
  "kernelspec": {
   "display_name": "Python [conda env:base] *",
   "language": "python",
   "name": "conda-base-py"
  },
  "language_info": {
   "codemirror_mode": {
    "name": "ipython",
    "version": 3
   },
   "file_extension": ".py",
   "mimetype": "text/x-python",
   "name": "python",
   "nbconvert_exporter": "python",
   "pygments_lexer": "ipython3",
   "version": "3.12.7"
  }
 },
 "nbformat": 4,
 "nbformat_minor": 5
}
